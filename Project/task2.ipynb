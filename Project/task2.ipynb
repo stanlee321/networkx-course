{
 "cells": [
  {
   "cell_type": "markdown",
   "metadata": {},
   "source": [
    "# Network Data Science with NetworkX and Python"
   ]
  },
  {
   "cell_type": "markdown",
   "metadata": {},
   "source": [
    "## Visualize graphs with options and layouts\n"
   ]
  },
  {
   "cell_type": "code",
   "execution_count": 1,
   "metadata": {},
   "outputs": [],
   "source": [
    "import pandas as pd\n",
    "import matplotlib.pyplot as plt\n",
    "import networkx as nx\n",
    "import numpy as np\n",
    "from random import sample\n",
    "\n",
    "link = (\"https://github.com/dnllvrvz/Social-Network-Dataset/\"\n",
    "        \"raw/master/Social%20Network%20Dataset.xlsx\")\n",
    "\n",
    "network_data = pd.read_excel(link, sheet_name=['Elements', 'Connections'])\n",
    "elements_data = network_data['Elements'] # node list\n",
    "connections_data = network_data['Connections'] # edge list\n",
    "edge_cols = ['Type', 'Weight', 'When']\n",
    "graph = nx.convert_matrix.from_pandas_edgelist(connections_data,\n",
    "                                               source='From',\n",
    "                                               target='To',\n",
    "                                               edge_attr=edge_cols)\n",
    "\n",
    "node_dict = elements_data.set_index('Label').to_dict(orient='index')\n",
    "nx.set_node_attributes(graph, node_dict)"
   ]
  },
  {
   "cell_type": "code",
   "execution_count": null,
   "metadata": {},
   "outputs": [],
   "source": []
  }
 ],
 "metadata": {
  "kernelspec": {
   "display_name": "Python 3",
   "language": "python",
   "name": "python3"
  },
  "language_info": {
   "codemirror_mode": {
    "name": "ipython",
    "version": 3
   },
   "file_extension": ".py",
   "mimetype": "text/x-python",
   "name": "python",
   "nbconvert_exporter": "python",
   "pygments_lexer": "ipython3",
   "version": "3.6.9"
  }
 },
 "nbformat": 4,
 "nbformat_minor": 4
}
